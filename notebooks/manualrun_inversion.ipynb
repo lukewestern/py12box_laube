{
 "cells": [
  {
   "cell_type": "code",
   "execution_count": 1,
   "metadata": {},
   "outputs": [],
   "source": [
    "import numpy as np\n",
    "import matplotlib.pyplot as plt\n",
    "from pathlib import Path\n",
    "\n",
    "from py12box_invert.invert import Invert\n",
    "from py12box_laube import get_data\n",
    "from py12box_agage.utils import get_inversion_params\n",
    "import pandas as pd"
   ]
  },
  {
   "cell_type": "code",
   "execution_count": 2,
   "metadata": {},
   "outputs": [
    {
     "name": "stdout",
     "output_type": "stream",
     "text": [
      "... CFC-112a\n",
      "Setting up inversion for CFC-112a\n",
      "\n",
      "No inital conditions file \n",
      "... assuming zero initial conditions\n",
      "Compiling model and tuning lifetime...\n",
      "... completed in 3 iterations\n",
      "... stratospheric lifetime: 52.1\n",
      "... OH lifetime: 1e12\n",
      "... ocean lifetime: 1e12\n",
      "... non-OH tropospheric lifetime: 1e12\n",
      "... overall lifetime: 52.05\n",
      "... done in 13.1226 s\n",
      "Calculating flux sensitivity on 1 threads...\n",
      "... done\n",
      "Spinning up for 9 years and estimating initial conditions...\n",
      "... done\n",
      "Run inversion...\n"
     ]
    },
    {
     "name": "stderr",
     "output_type": "stream",
     "text": [
      "<ipython-input-2-cccbe7507eee>:78: RuntimeWarning: invalid value encountered in less\n",
      "  inv.obs.mf_uncertainty[inv.obs.mf_uncertainty < min_unc] = min_unc\n"
     ]
    },
    {
     "name": "stdout",
     "output_type": "stream",
     "text": [
      "... done\n",
      "Calculating outputs...\n",
      "... calculating posterior ensembles\n",
      "... done\n",
      "\n",
      "CFC-112a 1.064060478532091\n",
      "... CFC-113a\n",
      "Setting up inversion for CFC-113a\n",
      "\n",
      "No inital conditions file \n",
      "... assuming zero initial conditions\n",
      "Compiling model and tuning lifetime...\n",
      "... completed in 3 iterations\n",
      "... stratospheric lifetime: 55.0\n",
      "... OH lifetime: 1e12\n",
      "... ocean lifetime: 1e12\n",
      "... non-OH tropospheric lifetime: 1e12\n",
      "... overall lifetime: 55.05\n",
      "... done in 0.0020 s\n",
      "Calculating flux sensitivity on 1 threads...\n",
      "... done\n",
      "Spinning up for 9 years and estimating initial conditions...\n",
      "... done\n",
      "Run inversion...\n",
      "... done\n",
      "Calculating outputs...\n",
      "... calculating posterior ensembles\n",
      "... done\n",
      "\n",
      "CFC-113a 1.0107719064927092\n",
      "... CFC-114a\n",
      "Setting up inversion for CFC-114a\n",
      "\n",
      "No inital conditions file \n",
      "... assuming zero initial conditions\n",
      "Compiling model and tuning lifetime...\n",
      "... completed in 2 iterations\n",
      "... stratospheric lifetime: 105.1\n",
      "... OH lifetime: 1e12\n",
      "... ocean lifetime: 1e12\n",
      "... non-OH tropospheric lifetime: 1e12\n",
      "... overall lifetime: 105.09\n",
      "... done in 0.0019 s\n",
      "Calculating flux sensitivity on 1 threads...\n",
      "... done\n",
      "Spinning up for 9 years and estimating initial conditions...\n",
      "... done\n",
      "Run inversion...\n",
      "... done\n",
      "Calculating outputs...\n",
      "... calculating posterior ensembles\n",
      "... done\n",
      "\n",
      "CFC-114a 1.0347070473536548\n"
     ]
    }
   ],
   "source": [
    "# Run for \"CFC-112\", \"CFC-112a\", \"CFC-113\",\"CFC-113a\", \"CFC-114\", \"CFC-114a\"\n",
    "\n",
    "# Uncertainty for 112a, 112 and 113a from Laube 2014\n",
    "# Uncertainty for 114a say 20% as Davis et al uncertainty is tiny\n",
    "# Others come from file (SPARC report)\n",
    "lifetime_uncertainty_dict = {\"CFC-112a\":0.55,\"CFC-112\":0.35, \"CFC-113a\":0.8,\n",
    "                            \"CFC-113\":0.2, \"CFC-114\":0.2, \"CFC-114a\":0.2, \n",
    "                            \"CFC-115\":0.2, \"CFC-13\":0.2}   \n",
    "\n",
    "lifetime_strat = {\"CFC-112a\":52., \"CFC-113a\":55.,\"CFC-114a\":105., \n",
    "                            \"CFC-115\":540, \"CFC-13\":640}\n",
    "\n",
    "species_list = [\"CFC-112a\", \"CFC-113a\", \"CFC-114a\"]\n",
    "network = \"laube\" #\"allagage\" # agage or laube or allagage\n",
    "# species_list = [\"CFC-112\", \"CFC-112a\", \"CFC-113\",\"CFC-113a\", \"CFC-114\", \"CFC-114a\"]\n",
    "# species_list = [\"CFC-115\",\"CFC-13\"] #\"CFC-114\", \n",
    "for species in species_list:\n",
    "    \n",
    "\n",
    "    if species in lifetime_strat.keys():\n",
    "        model_args = {\"lifetime_strat\":lifetime_strat[species]}\n",
    "    else:\n",
    "        model_args = {}\n",
    "\n",
    "    # Set a minimum mf uncertainty\n",
    "    if \"a\" not in species:\n",
    "        if species == \"CFC-112\":\n",
    "            min_unc = 0.0025\n",
    "        else:\n",
    "            min_unc = 0.05\n",
    "    # elif species == \"CFC-114a\":\n",
    "    #     min_unc = 0.0025\n",
    "    else:\n",
    "        min_unc = 0.\n",
    "\n",
    "    scale_error = 0.03\n",
    "    if species == \"CFC-114a\":\n",
    "        uncertainty_scale = 0.05\n",
    "    else:\n",
    "        uncertainty_scale = 0.2\n",
    "    \n",
    "    lifetime_uncertainty = lifetime_uncertainty_dict[species]\n",
    "\n",
    "    print(f\"... {species}\")\n",
    "\n",
    "    # Work out paths\n",
    "    project_path = get_data(f\"{species}\")\n",
    "    if network == \"agage\":\n",
    "        parts = list(project_path.parts)\n",
    "        parts[-2] = parts[-2] + \"_agage\"\n",
    "        project_path = Path(*parts)\n",
    "        network_in = network.copy()\n",
    "    elif network == \"allagage\":\n",
    "        parts = list(project_path.parts)\n",
    "        parts[-2] = parts[-2] + \"_allagage\"\n",
    "        project_path = Path(*parts)\n",
    "        network_in = network.replace(\"all\",\"\")\n",
    "    else:\n",
    "        network_in = network#.copy()\n",
    "    obs_path = project_path / f\"inputs/{species}_obs_{network_in}.csv\"\n",
    "    output_path = project_path / f\"outputs/{species}_out.p\"\n",
    "\n",
    "    nthreads = 1\n",
    "\n",
    "    if not output_path.parent.exists():\n",
    "        output_path.parent.mkdir()\n",
    "\n",
    "    # Set up inversion\n",
    "    inv = Invert(project_path / \"inputs\", species,\n",
    "                obs_path = obs_path,\n",
    "                method=\"iterative_rigby14\", #\"analytical_gaussian\",#\"rigby14\",#\n",
    "                n_threads=nthreads,\n",
    "                sensitivity_freq=\"yearly\",\n",
    "                end_year=2021.,\n",
    "                model_args = model_args)\n",
    "                \n",
    "\n",
    "    inv.obs.mf_uncertainty[inv.obs.mf_uncertainty < min_unc] = min_unc\n",
    "\n",
    "    # Calculate emissions uncertainty\n",
    "    emissions_box = inv.mod.emissions.max(axis=0)\n",
    "\n",
    "    invert_uncertainty = inv.mod.emissions.sum(axis=1).mean() * uncertainty_scale\n",
    "    invert_uncertainty_box = np.sqrt(invert_uncertainty**2 * emissions_box / emissions_box.sum())\n",
    "    invert_uncertainty_min = invert_uncertainty*0.01\n",
    "\n",
    "    invert_uncertainty_box[invert_uncertainty_box < invert_uncertainty_min] = invert_uncertainty_min\n",
    "\n",
    "    # Run inversion\n",
    "    inv.run_inversion(invert_uncertainty_box,\n",
    "                    lifetime_error=lifetime_uncertainty,\n",
    "                    scale_error=scale_error)\n",
    "\n",
    "    # Save outputs\n",
    "    # inv.save(output_path)\n",
    "\n",
    "    # # Write to csv\n",
    "    # inv.to_csv(project_path / \"outputs/\")\n",
    "    \n",
    "    # plt.figure()\n",
    "    # plt.plot(inv.outputs.emissions_global_annual[0],inv.outputs.emissions_global_annual[1])\n",
    "    # plt.plot(inv.outputs.emissions_global_annual[0],inv.outputs.emissions_global_annual[1]+\n",
    "    # inv.outputs.emissions_global_annual[2], \"b:\")\n",
    "    # plt.plot(inv.outputs.emissions_global_annual[0],inv.outputs.emissions_global_annual[1]-\n",
    "    # inv.outputs.emissions_global_annual[2], \"b:\")\n",
    "    # #plt.xlim(2010,2021)\n",
    "    # #plt.ylim(-10,10)\n",
    "    # plt.plot(inv.mod_prior.time, inv.mod_prior.emissions.sum(1), \"r\")\n",
    "    # plt.ylabel(species)\n",
    "\n",
    "    \n",
    "    species_list = [\"CFC-112\", \"CFC-112a\", \"CFC-113\",\"CFC-113a\", \"CFC-114\", \"CFC-114a\"]\n",
    "    lpath = Path(\"/user/home/lw13938/work/py12box_laube/data/\")\n",
    "    emissions = {}\n",
    "\n",
    "\n",
    "    df = pd.read_csv(lpath / species / f\"outputs/{species}_Global_annual_emissions.csv\", comment=\"#\")\n",
    "    emissions[species] = {\"date\":df.Decimal_date, \"emissions\":df.Global_annual_emissions,\n",
    "                            \"sd\":df[\"Global_annual_emissions_1-sigma\"]} \n",
    "    ratio = np.mean(emissions[species][\"emissions\"] / inv.outputs.emissions_global_annual[1][3:])\n",
    "    print(f\"{species} {ratio}\")\n"
   ]
  },
  {
   "cell_type": "code",
   "execution_count": 43,
   "metadata": {},
   "outputs": [
    {
     "data": {
      "text/plain": [
       "[<matplotlib.lines.Line2D at 0x7facf85c8e20>,\n",
       " <matplotlib.lines.Line2D at 0x7facf871d810>,\n",
       " <matplotlib.lines.Line2D at 0x7facf871d7b0>,\n",
       " <matplotlib.lines.Line2D at 0x7facf85c8130>]"
      ]
     },
     "execution_count": 43,
     "metadata": {},
     "output_type": "execute_result"
    },
    {
     "data": {
      "image/png": "[encoded data removed]",
      "text/plain": [
       "<Figure size 432x288 with 1 Axes>"
      ]
     },
     "metadata": {
      "needs_background": "light"
     },
     "output_type": "display_data"
    }
   ],
   "source": [
    "plt.plot(inv.outputs.emissions_annual[0],inv.outputs.emissions_annual[1])\n",
    "# plt.xlim(1998,2004)"
   ]
  },
  {
   "cell_type": "code",
   "execution_count": 44,
   "metadata": {},
   "outputs": [
    {
     "data": {
      "text/plain": [
       "(2010.0, 2021.0)"
      ]
     },
     "execution_count": 44,
     "metadata": {},
     "output_type": "execute_result"
    },
    {
     "data": {
      "image/png": "[encoded data removed]",
      "text/plain": [
       "<Figure size 432x288 with 1 Axes>"
      ]
     },
     "metadata": {
      "needs_background": "light"
     },
     "output_type": "display_data"
    }
   ],
   "source": [
    "for i, c in enumerate([\"r\",\"b\",\"g\",\"orange\"]):\n",
    "    plt.plot(inv.obs.time,inv.obs.mf[:,i], color=c)\n",
    "    # plt.plot(inv.outputs.mf_model[0], inv.outputs.mf_model[1][:,i], color=c)# plt.xlim((2001,2002))\n",
    "plt.ylim((8.3,8.8))\n",
    "# plt.ylim((3,3.5))\n",
    "plt.xlim((2010,2021))"
   ]
  },
  {
   "cell_type": "code",
   "execution_count": 45,
   "metadata": {},
   "outputs": [
    {
     "data": {
      "text/plain": [
       "[<matplotlib.lines.Line2D at 0x7facf9274c10>]"
      ]
     },
     "execution_count": 45,
     "metadata": {},
     "output_type": "execute_result"
    },
    {
     "data": {
      "image/png": "[encoded data removed]",
      "text/plain": [
       "<Figure size 432x288 with 1 Axes>"
      ]
     },
     "metadata": {
      "needs_background": "light"
     },
     "output_type": "display_data"
    }
   ],
   "source": [
    "plt.plot(inv.obs.time,inv.obs.mf,\"+\")\n",
    "plt.plot(inv.outputs.mf_global_annual[0], inv.outputs.mf_global_annual[1],\"o\")"
   ]
  },
  {
   "cell_type": "code",
   "execution_count": 46,
   "metadata": {},
   "outputs": [
    {
     "data": {
      "text/plain": [
       "dict_keys(['species', 'uncertainty', 'first_year', 'mf', 'steady_state_lifetime_strat', 'steady_state_lifetime_ocean', 'steady_state_lifetime_oh', 'steady_state_lifetime_cl', 'steady_state_lifetime_othertrop', 'steady_state_lifetime', 'mf_model', 'mf_global_annual', 'mf_global_annual_jan', 'mf_global_growth', 'mf_growth', 'emissions_global_annual', 'emissions_global_annual_nosys', 'emissions_annual', 'emissions_annual_nosys', 'emissions'])"
      ]
     },
     "execution_count": 46,
     "metadata": {},
     "output_type": "execute_result"
    }
   ],
   "source": [
    "inv.outputs.__dict__.keys()"
   ]
  },
  {
   "cell_type": "code",
   "execution_count": 47,
   "metadata": {},
   "outputs": [
    {
     "data": {
      "text/plain": [
       "(2015.0, 2021.0)"
      ]
     },
     "execution_count": 47,
     "metadata": {},
     "output_type": "execute_result"
    },
    {
     "data": {
      "image/png": "[encoded data removed]",
      "text/plain": [
       "<Figure size 432x288 with 1 Axes>"
      ]
     },
     "metadata": {
      "needs_background": "light"
     },
     "output_type": "display_data"
    }
   ],
   "source": [
    "for i, c in enumerate([\"r\",\"b\",\"g\",\"orange\"]):\n",
    "    plt.plot(inv.obs.time,inv.obs.mf[:,i], \"o\", color=c)\n",
    "    plt.plot(inv.outputs.mf_model[0], inv.outputs.mf_model[1][:,i], color=c)# plt.xlim((2001,2002))\n",
    "plt.ylim((8.3,8.8))\n",
    "plt.xlim((2015,2021))"
   ]
  },
  {
   "cell_type": "code",
   "execution_count": 8,
   "metadata": {},
   "outputs": [
    {
     "data": {
      "text/plain": [
       "46"
      ]
     },
     "execution_count": 8,
     "metadata": {},
     "output_type": "execute_result"
    }
   ],
   "source": [
    "len()"
   ]
  },
  {
   "cell_type": "code",
   "execution_count": 5,
   "metadata": {},
   "outputs": [],
   "source": []
  },
  {
   "cell_type": "code",
   "execution_count": 20,
   "metadata": {},
   "outputs": [
    {
     "data": {
      "text/plain": [
       "1.0150993126711383"
      ]
     },
     "execution_count": 20,
     "metadata": {},
     "output_type": "execute_result"
    }
   ],
   "source": []
  },
  {
   "cell_type": "code",
   "execution_count": 22,
   "metadata": {},
   "outputs": [
    {
     "data": {
      "text/plain": [
       "array([1975.45833333, 1976.45833333, 1977.45833333, 1978.45833333,\n",
       "       1979.45833333, 1980.45833333, 1981.45833333, 1982.45833333,\n",
       "       1983.45833333, 1984.45833333, 1985.45833333, 1986.45833333,\n",
       "       1987.45833333, 1988.45833333, 1989.45833333, 1990.45833333,\n",
       "       1991.45833333, 1992.45833333, 1993.45833333, 1994.45833333,\n",
       "       1995.45833333, 1996.45833333, 1997.45833333, 1998.45833333,\n",
       "       1999.45833333, 2000.45833333, 2001.45833333, 2002.45833333,\n",
       "       2003.45833333, 2004.45833333, 2005.45833333, 2006.45833333,\n",
       "       2007.45833333, 2008.45833333, 2009.45833333, 2010.45833333,\n",
       "       2011.45833333, 2012.45833333, 2013.45833333, 2014.45833333,\n",
       "       2015.45833333, 2016.45833333, 2017.45833333, 2018.45833333,\n",
       "       2019.45833333, 2020.45833333])"
      ]
     },
     "execution_count": 22,
     "metadata": {},
     "output_type": "execute_result"
    }
   ],
   "source": []
  },
  {
   "cell_type": "code",
   "execution_count": 24,
   "metadata": {},
   "outputs": [
    {
     "data": {
      "text/plain": [
       "0     1978.46\n",
       "1     1979.46\n",
       "2     1980.46\n",
       "3     1981.46\n",
       "4     1982.46\n",
       "5     1983.46\n",
       "6     1984.46\n",
       "7     1985.46\n",
       "8     1986.46\n",
       "9     1987.46\n",
       "10    1988.46\n",
       "11    1989.46\n",
       "12    1990.46\n",
       "13    1991.46\n",
       "14    1992.46\n",
       "15    1993.46\n",
       "16    1994.46\n",
       "17    1995.46\n",
       "18    1996.46\n",
       "19    1997.46\n",
       "20    1998.46\n",
       "21    1999.46\n",
       "22    2000.46\n",
       "23    2001.46\n",
       "24    2002.46\n",
       "25    2003.46\n",
       "26    2004.46\n",
       "27    2005.46\n",
       "28    2006.46\n",
       "29    2007.46\n",
       "30    2008.46\n",
       "31    2009.46\n",
       "32    2010.46\n",
       "33    2011.46\n",
       "34    2012.46\n",
       "35    2013.46\n",
       "36    2014.46\n",
       "37    2015.46\n",
       "38    2016.46\n",
       "39    2017.46\n",
       "40    2018.46\n",
       "41    2019.46\n",
       "42    2020.46\n",
       "Name: Decimal_date, dtype: float64"
      ]
     },
     "execution_count": 24,
     "metadata": {},
     "output_type": "execute_result"
    }
   ],
   "source": [
    "emissions[species][\"date\"]"
   ]
  },
  {
   "cell_type": "code",
   "execution_count": null,
   "metadata": {},
   "outputs": [],
   "source": []
  }
 ],
 "metadata": {
  "kernelspec": {
   "display_name": "Python 3.8.6 ('acrg-dev': conda)",
   "language": "python",
   "name": "python3"
  },
  "language_info": {
   "codemirror_mode": {
    "name": "ipython",
    "version": 3
   },
   "file_extension": ".py",
   "mimetype": "text/x-python",
   "name": "python",
   "nbconvert_exporter": "python",
   "pygments_lexer": "ipython3",
   "version": "3.8.6"
  },
  "orig_nbformat": 4,
  "vscode": {
   "interpreter": {
    "hash": "32444946df3d1f09fa25414f670079740b7e2d0c25afd0120eb4553ca7acfe0d"
   }
  }
 },
 "nbformat": 4,
 "nbformat_minor": 2
}
