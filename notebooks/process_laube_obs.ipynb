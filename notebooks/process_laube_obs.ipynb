{
 "cells": [
  {
   "cell_type": "code",
   "execution_count": 20,
   "metadata": {},
   "outputs": [],
   "source": [
    "import pandas as pd\n",
    "# from py12box_invert import utils\n",
    "from pathlib import Path\n",
    "#from py12box_agage import agage_process \n",
    "import getpass\n",
    "from datetime import datetime\n",
    "import numpy as np"
   ]
  },
  {
   "cell_type": "code",
   "execution_count": 21,
   "metadata": {},
   "outputs": [],
   "source": [
    "def get_uea_dict():\n",
    "    ueafn = \"/user/home/lw13938/work/py12box_laube/obs_raw/CapeGrim-20220126-for-Luke-112-112a-113-113a-114-114a-.csv\"\n",
    "    df = pd.read_csv(ueafn)\n",
    "    df_dict = {}\n",
    "    for i in range(8):\n",
    "        spdf = df.iloc[:,(i*6):((i+1)*6)]\n",
    "        day = spdf.iloc[2:,0]\n",
    "        month = spdf.iloc[2:,1]\n",
    "        year = spdf.iloc[2:,2]\n",
    "        mf = spdf.iloc[2:,3]\n",
    "        error = spdf.iloc[2:,4]\n",
    "        species = spdf.iloc[0,3]\n",
    "        if species == \"c-C4F8\":\n",
    "            species = \"C4F8\"\n",
    "        \n",
    "        dfdate = pd.DataFrame({'year': [int(y) for y in year.values if isinstance(y,str)],\n",
    "                        'month': [int(m) for m in month.values if isinstance(m,str)],\n",
    "                        'day': [int(d) for d in day.values if isinstance(d,str)]})\n",
    "        dfsp = pd.DataFrame(index=pd.to_datetime(dfdate), \n",
    "                data={\"mf\":[float(f) for f in mf.values if isinstance(f,str)],\n",
    "                \"pmf\":[float(f) for f in error.values if isinstance(f,str)]})\n",
    "\n",
    "        df_dict[species] = dfsp #.resample(\"1AS\").mean().dropna()\n",
    "    return df_dict"
   ]
  },
  {
   "cell_type": "code",
   "execution_count": 22,
   "metadata": {},
   "outputs": [],
   "source": [
    "def laube_sites(species, site):\n",
    "    \"\"\"\n",
    "    Read Johanne's files and output in same format as \n",
    "    AGAGE Georgia Tech files.\n",
    "    \"\"\"\n",
    "    scale = \"UEA\"\n",
    "\n",
    "    df_v_site = get_uea_dict()[species]\n",
    "\n",
    "\n",
    "    df_format = pd.DataFrame(data={\"var\":df_v_site.index.values,\"mf\":df_v_site.mf.values.astype(float), \"mf_variability\":df_v_site.pmf.values.astype(float), \"instrument\":[\"Medusa\",]*len(df_v_site.index.values)})\n",
    "    df_format = df_format.set_index(\"var\")\n",
    "    df_monthly = df_format.dropna().resample(\"MS\").mean()#.dropna()\n",
    "    intruments = [ \"Unknown\" if np.isfinite(item) else np.nan for item in df_monthly.mf ]\n",
    "    df_monthly.insert(2, \"instrument\", intruments, True)\n",
    "    species_columns = df_monthly.columns\n",
    "    df_monthly[\"mf_variability\"][np.where(df_monthly[\"mf_variability\"] == 0.0)[0]] = np.nanmean(df_monthly[\"mf_variability\"])\n",
    "    dfs = df_monthly[species_columns]    \n",
    "    \n",
    "    if dfs.empty:\n",
    "        return None, None        \n",
    "        \n",
    "    dfs.columns = pd.MultiIndex.from_tuples(((scale,\"ppt\", \"mf\"),\n",
    "                                            (scale,\"ppt\", f\"mf_variability\"),\n",
    "                                            (\"-\",\"-\", f\"instrument\")),\n",
    "                                            names=(\"scale\", \"unit\", \"var\"))\n",
    "    dfs.index.name = None\n",
    "    \n",
    "    comment_site = f'# {site} \\n#   1. Unknown\\n#------------------\\n'\n",
    "    return dfs,comment_site\n"
   ]
  },
  {
   "cell_type": "code",
   "execution_count": 23,
   "metadata": {},
   "outputs": [
    {
     "name": "stdout",
     "output_type": "stream",
     "text": [
      "Exiting: CFC-112 not in agage_data_selector.csv\n"
     ]
    },
    {
     "name": "stderr",
     "output_type": "stream",
     "text": [
      "<ipython-input-22-c11469c62d3d>:17: SettingWithCopyWarning: \n",
      "A value is trying to be set on a copy of a slice from a DataFrame\n",
      "\n",
      "See the caveats in the documentation: https://pandas.pydata.org/pandas-docs/stable/user_guide/indexing.html#returning-a-view-versus-a-copy\n",
      "  df_monthly[\"mf_variability\"][np.where(df_monthly[\"mf_variability\"] == 0.0)[0]] = np.nanmean(df_monthly[\"mf_variability\"])\n"
     ]
    },
    {
     "name": "stdout",
     "output_type": "stream",
     "text": [
      "Exiting: CFC-112a not in agage_data_selector.csv\n",
      "... creating directory /user/home/lw13938/work/py12box_laube/data/CFC-112a\n",
      "... creating directory /user/home/lw13938/work/py12box_laube/data/CFC-112a/inputs/\n",
      "... creating directory /user/home/lw13938/work/py12box_laube/data/CFC-113\n",
      "... creating directory /user/home/lw13938/work/py12box_laube/data/CFC-113/inputs/\n",
      "Exiting: CFC-113a not in agage_data_selector.csv\n",
      "... creating directory /user/home/lw13938/work/py12box_laube/data/CFC-113a\n",
      "... creating directory /user/home/lw13938/work/py12box_laube/data/CFC-113a/inputs/\n",
      "... creating directory /user/home/lw13938/work/py12box_laube/data/CFC-114\n",
      "... creating directory /user/home/lw13938/work/py12box_laube/data/CFC-114/inputs/\n",
      "Exiting: CFC-114a not in agage_data_selector.csv\n",
      "... creating directory /user/home/lw13938/work/py12box_laube/data/CFC-114a\n",
      "... creating directory /user/home/lw13938/work/py12box_laube/data/CFC-114a/inputs/\n"
     ]
    }
   ],
   "source": [
    "species_list = [\"CFC-112\", \"CFC-112a\", \"CFC-113\",\"CFC-113a\", \"CFC-114\", \"CFC-114a\"]\n",
    "\n",
    "for species in species_list:\n",
    "    output_directory=None\n",
    "    repeatability=0.\n",
    "    sites = {\"CGO\":3}\n",
    "\n",
    "    # Check if species is in data selector\n",
    "    data_selector = pd.read_csv(\"/user/home/lw13938/work/py12box_agage/py12box_agage/agage_data_selector.csv\",\n",
    "                                index_col=\"Species\")\n",
    "        \n",
    "    dfs = []\n",
    "    rmsite = []\n",
    "    comment_string = f\"# UEA/FJZ data for {species}\\n\"\n",
    "    comment_string += f\"# Created by {getpass.getuser()} on {datetime.now()}\\n\"\n",
    "    comment_string += f\"# Contact data owners before use \\n\"\n",
    "    comment_string += f\"# This file contains data from the following sites/instruments: \\n\"\n",
    "    comment_string += \"#===================================================\\n\"\n",
    "\n",
    "    for site in sites.keys():\n",
    "        \n",
    "\n",
    "        df_site, comment_site = laube_sites(species, site)\n",
    "\n",
    "\n",
    "        if df_site is not None:\n",
    "            dfs.append(df_site)\n",
    "            comment_string += comment_site\n",
    "        else:\n",
    "            rmsite = rmsite + [site]\n",
    "\n",
    "    for rms in rmsite:\n",
    "        sites.pop(rms)\n",
    "\n",
    "    if len(dfs) == 0:\n",
    "        print(\"No data found\")\n",
    "\n",
    "    for bi in range(3,-1, -1):\n",
    "        if bi not in sites.values():\n",
    "            df_empty = dfs[0].copy() #\n",
    "            df_empty.loc[:] = np.nan\n",
    "            # dfs.append(df_empty)\n",
    "            # sites[f\"AA{bi}\"] = bi\n",
    "            dfs.insert(0, df_empty)\n",
    "            sites = {**{f\"XX{bi}\" : bi}, **sites}\n",
    "\n",
    "    # Find units\n",
    "    units = [df.xs(\"mf\", level=\"var\", axis=1).columns.get_level_values(\"unit\").values[0] for df in dfs]\n",
    "    if len(set(units)) != 1:\n",
    "        raise(f\"ERROR: Units don't match: {units}\")\n",
    "\n",
    "    # Find scales\n",
    "    scales = [df.xs(\"mf\", level=\"var\", axis=1).columns.get_level_values(\"scale\").values[0] for df in dfs]\n",
    "    if len(set(scales)) != 1:\n",
    "        raise(f\"ERROR: Units don't match: {scales}\")\n",
    "\n",
    "    # Concatenate and average numeric data\n",
    "    df_concat = pd.concat([df.xs(units[0], level=\"unit\", axis=1) for df in dfs], \n",
    "                        axis=1, keys=[(site, box) for site, box in sites.items()], names=[\"site\", \"box\"])\n",
    "    df_grouped = df_concat.groupby(by=[\"var\", \"box\", \"scale\"], axis=1).mean()\n",
    "\n",
    "    # Drop scale level\n",
    "    df_grouped = df_grouped.droplevel(\"scale\", axis=1)\n",
    "\n",
    "    # Collect instrument data\n",
    "    df_instrument_concat = pd.concat([df.xs(\"instrument\", level=\"var\", axis=1) for df in dfs], \n",
    "                                    axis=1, keys=[(site, box) for site, box in sites.items()], names=[\"site\", \"box\"])\n",
    "\n",
    "\n",
    "    instrument_list = pd.DataFrame(\n",
    "                            columns=pd.MultiIndex.from_tuples(((\"instruments\", 0),\n",
    "                                                                (\"instruments\", 1),\n",
    "                                                                (\"instruments\", 2),\n",
    "                                                                (\"instruments\", 3)), names=[\"var\", \"box\"]),\n",
    "                            index=df_grouped.index)#, dtype=pd.StringDtype())\n",
    "\n",
    "    for bi in range(4):\n",
    "        df_instrument_concat_bi = df_instrument_concat.xs(bi, level=\"box\", axis=1)\n",
    "        instrument_list.iloc[:, bi] = df_instrument_concat_bi.iloc[:, 0]\n",
    "        for sitei in range(len(df_instrument_concat_bi.columns))[1:]:\n",
    "            instrument_list.iloc[:, bi] = instrument_list.iloc[:, bi].str.cat(df_instrument_concat_bi.iloc[:,sitei],\n",
    "                                                                                sep=\"|\",\n",
    "                                                                                na_rep=\"\")\n",
    "\n",
    "    # Collect sites\n",
    "    site_list = pd.DataFrame(\n",
    "                            columns=pd.MultiIndex.from_tuples(((\"sites\", 0),\n",
    "                                                                (\"sites\", 1),\n",
    "                                                                (\"sites\", 2),\n",
    "                                                                (\"sites\", 3)), names=[\"var\", \"box\"]),\n",
    "                            index=df_grouped.index)#, dtype=pd.StringDtype())\n",
    "\n",
    "    for i in df_concat.index:\n",
    "        dfi = df_concat.loc[i].dropna()\n",
    "        if len(dfi) == 0:\n",
    "            site_list.loc[i] = [\"\", \"\", \"\", \"\"]\n",
    "        else:\n",
    "            site_row = []\n",
    "            for bi in range(4):\n",
    "                if bi in dfi.index.get_level_values(\"box\"):\n",
    "                    site_set = set(dfi.xs(bi, level=\"box\").index.get_level_values(\"site\"))\n",
    "                    if len(site_set) == 0:\n",
    "                        site_row.append(\"\")\n",
    "                    else:\n",
    "                        site_row.append(\"|\".join(site_set))\n",
    "                else:\n",
    "                    site_row.append(\"\")\n",
    "            site_list.loc[i] = site_row\n",
    "\n",
    "    # Put measurements, sites and instruments together into one dataframe\n",
    "    df_grouped = pd.concat([df_grouped, site_list, instrument_list], axis=1)\n",
    "\n",
    "    # Add a repeatability\n",
    "    df_grouped[\"mf_variability\"] = np.sqrt(df_grouped[\"mf_variability\"]**2 + (df_grouped[\"mf\"]*repeatability)**2)\n",
    "\n",
    "    # Append site and units\n",
    "    comment_string += f\"# SCALE: {scales[0]}\\n# UNITS: {units[0]}\\n\"\n",
    "\n",
    "    # If no output directory given, default to data folder\n",
    "    if not output_directory:\n",
    "        #output_directory = Path(__file__).parent.parent / \"data\" / species / \"inputs\"\n",
    "        output_directory = f\"/user/home/lw13938/work/py12box_laube/data/{species}/inputs/\"\n",
    "    # If output directories don't exist, create them\n",
    "    if not Path(output_directory).exists():\n",
    "        if not Path(output_directory).parent.exists():\n",
    "            print(f\"... creating directory {Path(output_directory).parent}\")\n",
    "            Path(output_directory).parent.mkdir()\n",
    "        print(f\"... creating directory {output_directory}\")\n",
    "        Path(output_directory).mkdir()\n",
    "        \n",
    "    with open(Path(output_directory) / f\"{species}_obs_laube.csv\", 'w') as fout:\n",
    "        fout.write(comment_string)\n",
    "        df_grouped.to_csv(fout)"
   ]
  },
  {
   "cell_type": "code",
   "execution_count": 18,
   "metadata": {},
   "outputs": [
    {
     "name": "stdout",
     "output_type": "stream",
     "text": [
      "3\n",
      "2\n",
      "1\n",
      "0\n"
     ]
    }
   ],
   "source": []
  },
  {
   "cell_type": "code",
   "execution_count": 57,
   "metadata": {},
   "outputs": [
    {
     "data": {
      "text/plain": [
       "[('CGO', 3), ('XX0', 0), ('XX1', 1), ('XX2', 2)]"
      ]
     },
     "execution_count": 57,
     "metadata": {},
     "output_type": "execute_result"
    }
   ],
   "source": []
  },
  {
   "cell_type": "code",
   "execution_count": 17,
   "metadata": {},
   "outputs": [],
   "source": []
  },
  {
   "cell_type": "code",
   "execution_count": 30,
   "metadata": {},
   "outputs": [
    {
     "name": "stderr",
     "output_type": "stream",
     "text": [
      "<ipython-input-29-35d30ec4679a>:19: SettingWithCopyWarning: \n",
      "A value is trying to be set on a copy of a slice from a DataFrame\n",
      "\n",
      "See the caveats in the documentation: https://pandas.pydata.org/pandas-docs/stable/user_guide/indexing.html#returning-a-view-versus-a-copy\n",
      "  df_monthly[\"mf_variability\"][np.where(df_monthly[\"mf_variability\"] == 0.0)[0]] = np.nanmean(df_monthly[\"mf_variability\"])\n"
     ]
    }
   ],
   "source": []
  },
  {
   "cell_type": "code",
   "execution_count": 31,
   "metadata": {},
   "outputs": [
    {
     "data": {
      "text/plain": [
       "(scale            UEA                         -\n",
       " unit             ppt                         -\n",
       " var               mf mf_variability instrument\n",
       " 1978-07-01  0.087399       0.002613    Unknown\n",
       " 1978-08-01       NaN            NaN        NaN\n",
       " 1978-09-01       NaN            NaN        NaN\n",
       " 1978-10-01       NaN            NaN        NaN\n",
       " 1978-11-01       NaN            NaN        NaN\n",
       " ...              ...            ...        ...\n",
       " 2020-07-01       NaN            NaN        NaN\n",
       " 2020-08-01       NaN            NaN        NaN\n",
       " 2020-09-01       NaN            NaN        NaN\n",
       " 2020-10-01       NaN            NaN        NaN\n",
       " 2020-11-01  0.386666       0.004041    Unknown\n",
       " \n",
       " [509 rows x 3 columns],\n",
       " '# CGO \\n#   1. Unknown\\n#------------------\\n')"
      ]
     },
     "execution_count": 31,
     "metadata": {},
     "output_type": "execute_result"
    }
   ],
   "source": []
  },
  {
   "cell_type": "code",
   "execution_count": 27,
   "metadata": {},
   "outputs": [
    {
     "data": {
      "text/plain": [
       "DatetimeIndex(['1978-07-07', '1980-09-26', '1983-08-01', '1985-08-08',\n",
       "               '1987-05-28', '1989-04-20', '1991-03-13', '1993-06-07',\n",
       "               '1994-02-11', '1995-06-13', '1997-01-07', '1999-06-21',\n",
       "               '2000-02-23', '2000-09-29', '2001-04-27', '2001-12-11',\n",
       "               '2002-06-20', '2003-05-21', '2004-06-30', '2004-09-01',\n",
       "               '2004-12-16', '2005-04-06', '2005-10-03', '2006-08-23',\n",
       "               '2007-07-05', '2008-06-13', '2009-03-06', '2009-07-27',\n",
       "               '2010-12-10', '2011-02-08', '2011-03-17', '2011-04-20',\n",
       "               '2011-05-26', '2011-06-21', '2012-04-27', '2012-08-30',\n",
       "               '2012-12-04', '2013-03-14', '2013-07-05', '2013-10-14',\n",
       "               '2014-02-21', '2014-09-11', '2015-02-16', '2015-07-27',\n",
       "               '2015-09-22', '2015-11-26', '2016-01-22', '2016-04-07',\n",
       "               '2016-10-04', '2016-11-25', '2017-01-18', '2017-02-23',\n",
       "               '2018-02-16', '2018-09-28', '2019-03-26', '2019-07-02',\n",
       "               '2020-02-05', '2020-05-21', '2020-11-05'],\n",
       "              dtype='datetime64[ns]', freq=None)"
      ]
     },
     "execution_count": 27,
     "metadata": {},
     "output_type": "execute_result"
    }
   ],
   "source": []
  },
  {
   "cell_type": "code",
   "execution_count": null,
   "metadata": {},
   "outputs": [],
   "source": []
  }
 ],
 "metadata": {
  "interpreter": {
   "hash": "32444946df3d1f09fa25414f670079740b7e2d0c25afd0120eb4553ca7acfe0d"
  },
  "kernelspec": {
   "display_name": "Python 3.8.6 ('acrg-dev': conda)",
   "language": "python",
   "name": "python3"
  },
  "language_info": {
   "codemirror_mode": {
    "name": "ipython",
    "version": 3
   },
   "file_extension": ".py",
   "mimetype": "text/x-python",
   "name": "python",
   "nbconvert_exporter": "python",
   "pygments_lexer": "ipython3",
   "version": "3.8.6"
  },
  "orig_nbformat": 4
 },
 "nbformat": 4,
 "nbformat_minor": 2
}
