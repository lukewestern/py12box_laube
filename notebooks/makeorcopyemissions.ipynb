{
 "cells": [
  {
   "cell_type": "markdown",
   "metadata": {},
   "source": [
    "# Make some emissions files "
   ]
  },
  {
   "cell_type": "code",
   "execution_count": 1,
   "metadata": {},
   "outputs": [],
   "source": [
    "from pathlib import Path\n",
    "import shutil\n",
    "import pandas as pd\n",
    "import numpy as np"
   ]
  },
  {
   "cell_type": "code",
   "execution_count": 2,
   "metadata": {},
   "outputs": [
    {
     "name": "stdout",
     "output_type": "stream",
     "text": [
      "Copying CFC-113\n",
      "Copying CFC-114\n"
     ]
    }
   ],
   "source": [
    "species_list = [\"CFC-112\", \"CFC-112a\", \"CFC-113\",\"CFC-113a\", \"CFC-114\", \"CFC-114a\"]\n",
    "\n",
    "agage_dir = Path(\"/user/home/lw13938/work/py12box_agage/data/\")\n",
    "laube_dir = Path(\"/user/home/lw13938/work/py12box_laube/data/\")\n",
    "\n",
    "for species in species_list:\n",
    "    if (agage_dir / f\"{species}/inputs/{species}_emissions.csv\").exists():\n",
    "        print(f\"Copying {species}\")\n",
    "        shutil.copy(agage_dir / f\"{species}/inputs/{species}_emissions.csv\", laube_dir / f\"{species}/inputs/{species}_emissions.csv\")\n",
    "    elif \"a\" in species: # and species != \"CFC-112a\":\n",
    "        # Set fairly arbitrarily to 1, 1 and 0.05 for 113a, 114a and 112a\n",
    "        species_in = species.replace(\"a\",\"\")\n",
    "        if (agage_dir / f\"{species_in}/inputs/{species_in}_emissions.csv\").exists():\n",
    "            df = pd.read_csv(agage_dir / f\"{species_in}/inputs/{species_in}_emissions.csv\", comment=\"#\",\n",
    "            index_col = 0)\n",
    "            # if species == \"CFC-113a\":\n",
    "            #     div = 100.\n",
    "            # else:\n",
    "            #     div = 10.\n",
    "            # print(f\"Divide by {div} for isomer for {species}\")\n",
    "            if species == \"CFC-112a\":\n",
    "                val = 0.05\n",
    "            else:\n",
    "                val = 1 \n",
    "\n",
    "            for bx in df.keys():\n",
    "                if bx == \"Year\":\n",
    "                    continue\n",
    "                else:\n",
    "                    # df[bx] = df[bx].values/div\n",
    "                    df[bx] = df[bx].values.sum()/df[1:].values.sum() * val*np.ones(len(df[bx].values))\n",
    "\n",
    "            \n",
    "            # comment_string = f\"# McCulloch et al (2007) emissions divided by {div} \\n\"\n",
    "            comment_string = f\"# Emissions set to {val} Gg/yr \\n\"\n",
    "            comment_string += \"# UNITS: Gg/yr \\n\"\n",
    "            with open(Path(laube_dir / f\"{species}/inputs/{species}_emissions.csv\"), 'w') as fout:\n",
    "                fout.write(comment_string)\n",
    "                df.to_csv(fout)\n",
    "    # else:\n",
    "    #     print(f\"Making a new file for {species}\")\n",
    "    #     print(f\"Use CFC-114 as base\")\n",
    "    #     df = pd.read_csv(agage_dir / \"CFC-114/inputs/CFC-114_emissions.csv\", \n",
    "    #                     comment=\"#\",index_col = 0)\n",
    "    #     if species == \"CFC-112\":\n",
    "    #         div = 10.\n",
    "    #     else:\n",
    "    #         div = 100.\n",
    "        \n",
    "        # for bx in df.keys():\n",
    "        #     if bx == \"Year\":\n",
    "        #         continue\n",
    "        #     else:\n",
    "        #         df[bx] = df[bx].values/div\n",
    "            \n",
    "            # comment_string = f\"# McCulloch et al (2007) emissions for CFC-114 divided by {div} \\n\"\n",
    "            # comment_string += \"# UNITS: Gg/yr \\n\"\n",
    "            # with open(Path(laube_dir / f\"{species}/inputs/{species}_emissions.csv\"), 'w') as fout:\n",
    "            #     fout.write(comment_string)\n",
    "            #     df.to_csv(fout)\n",
    "\n",
    "\n",
    "\n",
    "        \n"
   ]
  },
  {
   "cell_type": "code",
   "execution_count": 35,
   "metadata": {},
   "outputs": [
    {
     "data": {
      "text/plain": [
       "'CFC-114'"
      ]
     },
     "execution_count": 35,
     "metadata": {},
     "output_type": "execute_result"
    }
   ],
   "source": [
    "species.replace(\"a\",\"\")"
   ]
  },
  {
   "cell_type": "code",
   "execution_count": 41,
   "metadata": {},
   "outputs": [],
   "source": [
    "from py12box_vollmer import get_data"
   ]
  },
  {
   "cell_type": "code",
   "execution_count": null,
   "metadata": {},
   "outputs": [],
   "source": []
  }
 ],
 "metadata": {
  "interpreter": {
   "hash": "32444946df3d1f09fa25414f670079740b7e2d0c25afd0120eb4553ca7acfe0d"
  },
  "kernelspec": {
   "display_name": "Python 3.8.6 ('acrg-dev': conda)",
   "language": "python",
   "name": "python3"
  },
  "language_info": {
   "codemirror_mode": {
    "name": "ipython",
    "version": 3
   },
   "file_extension": ".py",
   "mimetype": "text/x-python",
   "name": "python",
   "nbconvert_exporter": "python",
   "pygments_lexer": "ipython3",
   "version": "3.8.6"
  },
  "orig_nbformat": 4
 },
 "nbformat": 4,
 "nbformat_minor": 2
}
