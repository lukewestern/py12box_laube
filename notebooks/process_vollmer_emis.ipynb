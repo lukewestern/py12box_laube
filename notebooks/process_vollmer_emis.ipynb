{
 "cells": [
  {
   "cell_type": "markdown",
   "metadata": {},
   "source": [
    "# Reformat Vollmer et al. CFC-115 and CFC-13 AEFAS emissions for box model input "
   ]
  },
  {
   "cell_type": "code",
   "execution_count": 1,
   "metadata": {},
   "outputs": [],
   "source": [
    "from pathlib import Path\n",
    "import shutil\n",
    "import pandas as pd\n",
    "import numpy as np"
   ]
  },
  {
   "cell_type": "code",
   "execution_count": 2,
   "metadata": {},
   "outputs": [],
   "source": [
    "species_list= [\"CFC-115\"]\n",
    "\n",
    "agage_dir = Path(\"/user/home/lw13938/work/py12box_agage/data/\")\n",
    "laube_dir = Path(\"/user/home/lw13938/work/py12box_laube/data/\")\n",
    "vollmer_dir = Path(\"/user/home/lw13938/work/py12box_laube/aux_data/\")\n",
    "\n",
    "col_names = [f\"Ignore{i}\" for i in range(13)] \n",
    "col_names[11] = \"emissions\"\n",
    "\n",
    "for species in species_list:\n",
    "\n",
    "    # Read existing\n",
    "    df = pd.read_csv(agage_dir / f\"{species}/inputs/{species}_emissions.csv\", comment=\"#\",\n",
    "    index_col = 0)\n",
    "    # dfnew = df.copy()\n",
    "\n",
    "    # Read Vollmer et al. file\n",
    "    dfv = pd.read_csv(vollmer_dir / \"VollmerTableS9-AFEAS_Data.csv\", comment=\"%\", index_col=0,\n",
    "    names=col_names)\n",
    "    vemis = pd.DataFrame(index = dfv.index, data=dfv[\"emissions\"].values/1e3) # In kt/Gg\n",
    "    vemis = vemis.reindex(np.arange(1930, 2101).astype(int), fill_value=0.).rename_axis('Year')\n",
    "\n",
    "    # Take weightings from other emissions file\n",
    "    weight = df.divide(df.values.sum(1), axis=0).fillna(0)\n",
    "    meanweights = weight.mean(0)\n",
    "        \n",
    "    for yr in range(len(weight.index)):\n",
    "        if (weight.values[yr,:] == 0.).all() and vemis.values[yr] != 0.:\n",
    "            weight.values[yr,:] = meanweights.values\n",
    "    \n",
    "    dfnew = weight.multiply(vemis.values)\n",
    "\n",
    "    # # comment_string = f\"# McCulloch et al (2007) emissions divided by {div} \\n\"\n",
    "    # comment_string = f\"# Emissions set to {val} Gg/yr \\n\"\n",
    "    # comment_string += \"# UNITS: Gg/yr \\n\"\n",
    "    # with open(Path(laube_dir / f\"{species}/inputs/{species}_emissions.csv\"), 'w') as fout:\n",
    "    #     fout.write(comment_string)\n",
    "    #     df.to_csv(fout)"
   ]
  },
  {
   "cell_type": "code",
   "execution_count": 15,
   "metadata": {},
   "outputs": [
    {
     "data": {
      "text/plain": [
       "[<matplotlib.lines.Line2D at 0x7fe332c7b730>]"
      ]
     },
     "execution_count": 15,
     "metadata": {},
     "output_type": "execute_result"
    },
    {
     "data": {
      "image/png": "[encoded data removed]",
      "text/plain": [
       "<Figure size 432x288 with 1 Axes>"
      ]
     },
     "metadata": {
      "needs_background": "light"
     },
     "output_type": "display_data"
    }
   ],
   "source": [
    "plt.plot(df.sum(1))\n",
    "plt.plot(vemis, \"+\")\n",
    "plt.plot(dfnew.sum(1))\n",
    "\n"
   ]
  },
  {
   "cell_type": "code",
   "execution_count": 5,
   "metadata": {},
   "outputs": [
    {
     "data": {
      "text/plain": [
       "array([33.75, 56.25, 78.75])"
      ]
     },
     "execution_count": 5,
     "metadata": {},
     "output_type": "execute_result"
    }
   ],
   "source": [
    "11.25 + np.cumsum([22.5,22.5,22.5])"
   ]
  },
  {
   "cell_type": "code",
   "execution_count": 3,
   "metadata": {},
   "outputs": [],
   "source": [
    "import numpy as np"
   ]
  },
  {
   "cell_type": "code",
   "execution_count": null,
   "metadata": {},
   "outputs": [],
   "source": []
  }
 ],
 "metadata": {
  "kernelspec": {
   "display_name": "Python 3.8.6 ('acrg-dev': conda)",
   "language": "python",
   "name": "python3"
  },
  "language_info": {
   "codemirror_mode": {
    "name": "ipython",
    "version": 3
   },
   "file_extension": ".py",
   "mimetype": "text/x-python",
   "name": "python",
   "nbconvert_exporter": "python",
   "pygments_lexer": "ipython3",
   "version": "3.8.6"
  },
  "orig_nbformat": 4,
  "vscode": {
   "interpreter": {
    "hash": "32444946df3d1f09fa25414f670079740b7e2d0c25afd0120eb4553ca7acfe0d"
   }
  }
 },
 "nbformat": 4,
 "nbformat_minor": 2
}
